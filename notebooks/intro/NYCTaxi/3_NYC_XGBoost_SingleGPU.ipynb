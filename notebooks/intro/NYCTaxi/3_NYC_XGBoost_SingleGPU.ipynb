{
 "cells": [
  {
   "cell_type": "markdown",
   "metadata": {},
   "source": [
    "# NVIDIA RAPIDS on Azure ML\n",
    "## MLADS Fall'19\n",
    "\n",
    "The notebook lopoks at various features of the NY taxi dataset. Processing is done one a single GPU\n",
    "\n",
    "**AUTHORS**\n",
    "* Tom Drabas (Microsoft)\n",
    "* Brad Rees (NVIDIA)\n",
    "* John Zedlewski (NVIDIA)\n",
    "* Paul Mahler (NVIDIA)\n",
    "* Nick Becker\n",
    "* Chau Dang (NVIDIA)\n",
    "\n",
    "**GREATER TEAM**\n",
    "* Joshua Patterson (NVIDIA)\n",
    "* Keith Kraus (NVIDIA)\n",
    "* Michael Beaumont (NVIDIA)\n",
    "* Manuel Reyes Gomez (NVIDIA)\n"
   ]
  },
  {
   "cell_type": "code",
   "execution_count": 1,
   "metadata": {},
   "outputs": [
    {
     "name": "stdout",
     "output_type": "stream",
     "text": [
      "Sun Nov 17 05:03:04 2019       \n",
      "+-----------------------------------------------------------------------------+\n",
      "| NVIDIA-SMI 410.48                 Driver Version: 410.48                    |\n",
      "|-------------------------------+----------------------+----------------------+\n",
      "| GPU  Name        Persistence-M| Bus-Id        Disp.A | Volatile Uncorr. ECC |\n",
      "| Fan  Temp  Perf  Pwr:Usage/Cap|         Memory-Usage | GPU-Util  Compute M. |\n",
      "|===============================+======================+======================|\n",
      "|   0  Graphics Device     Off  | 00000000:01:00.0 Off |                  N/A |\n",
      "| 41%   45C    P0    96W / 280W |      0MiB / 24187MiB |      0%      Default |\n",
      "+-------------------------------+----------------------+----------------------+\n",
      "                                                                               \n",
      "+-----------------------------------------------------------------------------+\n",
      "| Processes:                                                       GPU Memory |\n",
      "|  GPU       PID   Type   Process name                             Usage      |\n",
      "|=============================================================================|\n",
      "|  No running processes found                                                 |\n",
      "+-----------------------------------------------------------------------------+\n"
     ]
    }
   ],
   "source": [
    "# Let's first look at the available hardware - The amount og GPU memeory wil affect how much data we can process\n",
    "!nvidia-smi"
   ]
  },
  {
   "cell_type": "code",
   "execution_count": 2,
   "metadata": {},
   "outputs": [],
   "source": [
    "import os\n",
    "os.environ[\"CUDA_VISIBLE_DEVICES\"]=\"0\""
   ]
  },
  {
   "cell_type": "code",
   "execution_count": 3,
   "metadata": {},
   "outputs": [],
   "source": [
    "# Load the required modules\n",
    "import time\n",
    "\n",
    "import cudf\n",
    "import cuml\n",
    "from cuml.preprocessing.model_selection import train_test_split as cumlTTS\n",
    "from cuml.metrics.regression import r2_score as cuml_r2\n",
    "\n",
    "import xgboost as xgb\n",
    "\n",
    "import numpy as np\n",
    "from collections import OrderedDict"
   ]
  },
  {
   "cell_type": "markdown",
   "metadata": {},
   "source": [
    "## Read in the data"
   ]
  },
  {
   "cell_type": "code",
   "execution_count": 4,
   "metadata": {},
   "outputs": [],
   "source": [
    "data_dir = '../../../'     #### REPLACE WITH THE DATA STORE PATH\n",
    "data_path = os.path.join(data_dir, \"data/nyctaxi/2016/\")\n",
    "\n",
    "datafiles = [\n",
    "      'yellow_tripdata_2016-01.csv'\n",
    "    , 'yellow_tripdata_2016-02.csv'\n",
    "    , 'yellow_tripdata_2016-03.csv'\n",
    "    , 'yellow_tripdata_2016-04.csv'\n",
    "]\n",
    "\n",
    "datafiles = [os.path.join(data_path, f) for f in datafiles]\n",
    "first_dataset = datafiles[0]"
   ]
  },
  {
   "cell_type": "code",
   "execution_count": 5,
   "metadata": {},
   "outputs": [
    {
     "name": "stdout",
     "output_type": "stream",
     "text": [
      "VendorID,tpep_pickup_datetime,tpep_dropoff_datetime,passenger_count,trip_distance,pickup_longitude,pickup_latitude,RatecodeID,store_and_fwd_flag,dropoff_longitude,dropoff_latitude,payment_type,fare_amount,extra,mta_tax,tip_amount,tolls_amount,improvement_surcharge,total_amount\n"
     ]
    }
   ],
   "source": [
    "%%bash -s \"$first_dataset\"\n",
    "head -n 1 $1"
   ]
  },
  {
   "cell_type": "code",
   "execution_count": 6,
   "metadata": {},
   "outputs": [],
   "source": [
    "# I don't really like those column names, let me define my own\n",
    "# also, by specifying the data types we can reduce read times and memory \n",
    "columns_dtypes = OrderedDict(\n",
    "    [\n",
    "        ('vendor_id', 'int32'),\n",
    "        ('pickup_datetime', 'date'),\n",
    "        ('dropoff_datetime', 'date'),\n",
    "        ('passenger_count', 'int32'),\n",
    "        ('trip_distance', 'int32'),\n",
    "        ('pickup_longitude', 'float64'),\n",
    "        ('pickup_latitude', 'float64'),\n",
    "        ('rate_code', 'int32'),\n",
    "        ('store_and_fwd_flag', 'int32'),\n",
    "        ('dropoff_longitude', 'float64'),\n",
    "        ('dropoff_latitude', 'float64'),\n",
    "        ('payment_type', 'int32'),\n",
    "        ('fare_amount', 'float64'),\n",
    "        ('extra', 'float64'),\n",
    "        ('mta_tax', 'float64'),\n",
    "        ('tip_amount', 'float64'),\n",
    "        ('tolls_amount', 'float64'),\n",
    "        ('surcharge', 'float64'),\n",
    "        ('total_amount', 'float64')\n",
    "    ]\n",
    ")\n",
    "\n",
    "# don't want to use all columns, specifiy just a few\n",
    "use_col  = [\n",
    "    'pickup_datetime',\n",
    "    'dropoff_datetime',\n",
    "    'passenger_count', \n",
    "    'trip_distance',\n",
    "    'pickup_longitude',\n",
    "    'pickup_latitude',     \n",
    "    'rate_code',\n",
    "    'dropoff_longitude',\n",
    "    'dropoff_latitude',    \n",
    "    'fare_amount',\n",
    "    'extra',\n",
    "    'tip_amount',\n",
    "    'total_amount'\n",
    "]"
   ]
  },
  {
   "cell_type": "code",
   "execution_count": 7,
   "metadata": {},
   "outputs": [
    {
     "name": "stdout",
     "output_type": "stream",
     "text": [
      "CPU times: user 4.88 s, sys: 1.44 s, total: 6.32 s\n",
      "Wall time: 6.32 s\n"
     ]
    }
   ],
   "source": [
    "%%time\n",
    "# Load the data\n",
    "data = []\n",
    "\n",
    "for f in datafiles:\n",
    "    data.append(\n",
    "        cudf.read_csv(\n",
    "              f\n",
    "            , names=list(columns_dtypes.keys())\n",
    "            , dtype=list(columns_dtypes.values())\n",
    "            , skip_rows=1\n",
    "            , usecols=use_col\n",
    "        )\n",
    "    )\n",
    "    \n",
    "taxi_df = cudf.concat(data)\n",
    "del data   ### CLEAN UP "
   ]
  },
  {
   "cell_type": "code",
   "execution_count": 8,
   "metadata": {},
   "outputs": [
    {
     "data": {
      "text/html": [
       "<div>\n",
       "<style scoped>\n",
       "    .dataframe tbody tr th:only-of-type {\n",
       "        vertical-align: middle;\n",
       "    }\n",
       "\n",
       "    .dataframe tbody tr th {\n",
       "        vertical-align: top;\n",
       "    }\n",
       "\n",
       "    .dataframe thead th {\n",
       "        text-align: right;\n",
       "    }\n",
       "</style>\n",
       "<table border=\"1\" class=\"dataframe\">\n",
       "  <thead>\n",
       "    <tr style=\"text-align: right;\">\n",
       "      <th></th>\n",
       "      <th>pickup_datetime</th>\n",
       "      <th>dropoff_datetime</th>\n",
       "      <th>passenger_count</th>\n",
       "      <th>trip_distance</th>\n",
       "      <th>pickup_longitude</th>\n",
       "      <th>pickup_latitude</th>\n",
       "      <th>rate_code</th>\n",
       "      <th>dropoff_longitude</th>\n",
       "      <th>dropoff_latitude</th>\n",
       "      <th>fare_amount</th>\n",
       "      <th>extra</th>\n",
       "      <th>tip_amount</th>\n",
       "      <th>total_amount</th>\n",
       "    </tr>\n",
       "  </thead>\n",
       "  <tbody>\n",
       "    <tr>\n",
       "      <th>0</th>\n",
       "      <td>1969-12-31 23:59:59.999</td>\n",
       "      <td>1969-12-31 23:59:59.999</td>\n",
       "      <td>1000</td>\n",
       "      <td>13001012</td>\n",
       "      <td>7.027659e+15</td>\n",
       "      <td>7.027659e+14</td>\n",
       "      <td>100</td>\n",
       "      <td>5.930090e+16</td>\n",
       "      <td>5.930090e+15</td>\n",
       "      <td>inf</td>\n",
       "      <td>NaN</td>\n",
       "      <td>7.439258e+10</td>\n",
       "      <td>7.503553e+12</td>\n",
       "    </tr>\n",
       "    <tr>\n",
       "      <th>1</th>\n",
       "      <td>2016-01-01 00:00:00.000</td>\n",
       "      <td>2016-01-01 00:00:00.000</td>\n",
       "      <td>2</td>\n",
       "      <td>1</td>\n",
       "      <td>-7.399037e+01</td>\n",
       "      <td>4.073470e+01</td>\n",
       "      <td>1</td>\n",
       "      <td>-7.398184e+01</td>\n",
       "      <td>4.073241e+01</td>\n",
       "      <td>7.5</td>\n",
       "      <td>0.5</td>\n",
       "      <td>0.000000e+00</td>\n",
       "      <td>8.800000e+00</td>\n",
       "    </tr>\n",
       "  </tbody>\n",
       "</table>\n",
       "</div>"
      ],
      "text/plain": [
       "          pickup_datetime        dropoff_datetime  passenger_count  \\\n",
       "0 1969-12-31 23:59:59.999 1969-12-31 23:59:59.999             1000   \n",
       "1 2016-01-01 00:00:00.000 2016-01-01 00:00:00.000                2   \n",
       "\n",
       "   trip_distance  pickup_longitude  pickup_latitude  rate_code  \\\n",
       "0       13001012      7.027659e+15     7.027659e+14        100   \n",
       "1              1     -7.399037e+01     4.073470e+01          1   \n",
       "\n",
       "   dropoff_longitude  dropoff_latitude  fare_amount  extra    tip_amount  \\\n",
       "0       5.930090e+16      5.930090e+15          inf    NaN  7.439258e+10   \n",
       "1      -7.398184e+01      4.073241e+01          7.5    0.5  0.000000e+00   \n",
       "\n",
       "   total_amount  \n",
       "0  7.503553e+12  \n",
       "1  8.800000e+00  "
      ]
     },
     "execution_count": 8,
     "metadata": {},
     "output_type": "execute_result"
    }
   ],
   "source": [
    "# let's peek at the first few records\n",
    "taxi_df.head(2)"
   ]
  },
  {
   "cell_type": "markdown",
   "metadata": {},
   "source": [
    "## Remove bad data"
   ]
  },
  {
   "cell_type": "code",
   "execution_count": 9,
   "metadata": {},
   "outputs": [
    {
     "name": "stdout",
     "output_type": "stream",
     "text": [
      "Raw number of rows: 46,434,201\n"
     ]
    }
   ],
   "source": [
    "# How much data was loaded?\n",
    "print(f'Raw number of rows: {len(taxi_df):,}')"
   ]
  },
  {
   "cell_type": "code",
   "execution_count": 10,
   "metadata": {},
   "outputs": [
    {
     "name": "stdout",
     "output_type": "stream",
     "text": [
      "CPU times: user 200 ms, sys: 98.8 ms, total: 299 ms\n",
      "Wall time: 303 ms\n"
     ]
    }
   ],
   "source": [
    "%%time\n",
    "# filter out records with missing or outlier values\n",
    "query_frags = (\"(fare_amount > 0 and fare_amount < 500) \" +\n",
    "        \"and (passenger_count > 0 and passenger_count < 6) \" +\n",
    "        \"and (pickup_longitude > -75 and pickup_longitude < -73) \" +\n",
    "        \"and (dropoff_longitude > -75 and dropoff_longitude < -73) \" +\n",
    "        \"and (pickup_latitude > 40 and pickup_latitude < 42) \" +\n",
    "        \"and (dropoff_latitude > 40 and dropoff_latitude < 42)\"\n",
    "    )\n",
    "\n",
    "taxi_df = taxi_df.query(query_frags)"
   ]
  },
  {
   "cell_type": "code",
   "execution_count": 11,
   "metadata": {},
   "outputs": [
    {
     "name": "stdout",
     "output_type": "stream",
     "text": [
      "Filtered number of rows: 44,104,601\n"
     ]
    }
   ],
   "source": [
    "# How much data (records) were loaded?\n",
    "print(f'Filtered number of rows: {len(taxi_df):,}')"
   ]
  },
  {
   "cell_type": "markdown",
   "metadata": {},
   "source": [
    "## Now add some additional fields "
   ]
  },
  {
   "cell_type": "code",
   "execution_count": 12,
   "metadata": {},
   "outputs": [
    {
     "name": "stdout",
     "output_type": "stream",
     "text": [
      "CPU times: user 187 ms, sys: 208 ms, total: 395 ms\n",
      "Wall time: 394 ms\n"
     ]
    }
   ],
   "source": [
    "%%time\n",
    "# expand the datetime into individual fields\n",
    "import datetime as dt\n",
    "\n",
    "taxi_df['hour'] = taxi_df['pickup_datetime'].dt.hour\n",
    "taxi_df['year'] = taxi_df['pickup_datetime'].dt.year\n",
    "taxi_df['month'] = taxi_df['pickup_datetime'].dt.month\n",
    "taxi_df['day'] = taxi_df['pickup_datetime'].dt.day\n",
    "taxi_df['diff'] = taxi_df['dropoff_datetime'].astype('int32') - taxi_df['pickup_datetime'].astype('int32')\n",
    "\n",
    "# drop the original datetime fields\n",
    "taxi_df = taxi_df.drop(['pickup_datetime','dropoff_datetime'])"
   ]
  },
  {
   "cell_type": "code",
   "execution_count": 13,
   "metadata": {},
   "outputs": [
    {
     "name": "stdout",
     "output_type": "stream",
     "text": [
      "CPU times: user 385 ms, sys: 237 ms, total: 622 ms\n",
      "Wall time: 621 ms\n"
     ]
    }
   ],
   "source": [
    "%%time\n",
    "# create a 'day of week' field\n",
    "import math\n",
    "\n",
    "def day_of_the_week(day, month, year, day_of_week):\n",
    "    for i, (d_1, m_1, y_1) in enumerate(zip(day, month, year)):\n",
    "        if month[i] < 3:\n",
    "            shift = month[i]\n",
    "        else:\n",
    "            shift = 0\n",
    "        Y = year[i] - (month[i] < 3)\n",
    "        y = Y - 2000\n",
    "        c = 20\n",
    "        d = day[i]\n",
    "        m = month[i] + shift + 1\n",
    "        day_of_week[i] = (d + math.floor(m * 2.6) + y + (y // 4) + (c // 4) - 2 * c) % 7\n",
    "        \n",
    "taxi_df = taxi_df.apply_rows(day_of_the_week,\n",
    "                   incols=['day', 'month', 'year'],\n",
    "                   outcols=dict(day_of_week=np.float32),\n",
    "                   kwargs=dict())"
   ]
  },
  {
   "cell_type": "code",
   "execution_count": 14,
   "metadata": {},
   "outputs": [],
   "source": [
    "# let's fix the location data\n",
    "taxi_df['pickup_latitude_r'] = taxi_df['pickup_latitude'] // .01 * .01\n",
    "taxi_df['pickup_longitude_r'] = taxi_df['pickup_longitude'] // .01 * .01\n",
    "taxi_df['dropoff_latitude_r'] = taxi_df['dropoff_latitude'] // .01 * .01\n",
    "taxi_df['dropoff_longitude_r'] = taxi_df['dropoff_longitude'] // .01 * .01"
   ]
  },
  {
   "cell_type": "code",
   "execution_count": 15,
   "metadata": {},
   "outputs": [
    {
     "name": "stdout",
     "output_type": "stream",
     "text": [
      "CPU times: user 469 ms, sys: 216 ms, total: 685 ms\n",
      "Wall time: 689 ms\n"
     ]
    }
   ],
   "source": [
    "%%time\n",
    "# Compute the Haversince distance between locations\n",
    "from math import cos, sin, asin, sqrt, pi\n",
    "\n",
    "def haversine_distance_kernel(pickup_latitude, pickup_longitude, dropoff_latitude, dropoff_longitude, h_distance):\n",
    "    for i, (x_1, y_1, x_2, y_2) in enumerate(zip(pickup_latitude, pickup_longitude, dropoff_latitude, dropoff_longitude)):\n",
    "        x_1 = pi / 180 * x_1\n",
    "        y_1 = pi / 180 * y_1\n",
    "        x_2 = pi / 180 * x_2\n",
    "        y_2 = pi / 180 * y_2\n",
    "        \n",
    "        dlon = y_2 - y_1\n",
    "        dlat = x_2 - x_1\n",
    "        a = sin(dlat / 2)**2 + cos(x_1) * cos(x_2) * sin(dlon / 2)**2\n",
    "        \n",
    "        c = 2 * asin(sqrt(a)) \n",
    "        r = 6371 # Radius of earth in kilometers\n",
    "        \n",
    "        h_distance[i] = c * r\n",
    "        \n",
    "taxi_df = taxi_df.apply_rows(haversine_distance_kernel,\n",
    "                   incols=['pickup_latitude', 'pickup_longitude', 'dropoff_latitude', 'dropoff_longitude'],\n",
    "                   outcols=dict(h_distance=np.float32),\n",
    "                   kwargs=dict())"
   ]
  },
  {
   "cell_type": "markdown",
   "metadata": {},
   "source": [
    "---\n",
    "## Now let's do some data science"
   ]
  },
  {
   "cell_type": "code",
   "execution_count": 16,
   "metadata": {},
   "outputs": [
    {
     "data": {
      "text/plain": [
       "<matplotlib.axes._subplots.AxesSubplot at 0x7f11e0f08320>"
      ]
     },
     "execution_count": 16,
     "metadata": {},
     "output_type": "execute_result"
    },
    {
     "data": {
      "image/png": "[encoded data removed]",
      "text/plain": [
       "<Figure size 432x288 with 1 Axes>"
      ]
     },
     "metadata": {
      "needs_background": "light"
     },
     "output_type": "display_data"
    }
   ],
   "source": [
    "%matplotlib inline\n",
    "taxi_df.groupby('hour').fare_amount.mean().to_pandas().sort_index().plot(legend=True)"
   ]
  },
  {
   "cell_type": "code",
   "execution_count": 17,
   "metadata": {},
   "outputs": [],
   "source": [
    "X_train, X_test, y_train, y_test = cumlTTS(taxi_df, 'fare_amount', train_size=0.75)\n",
    "\n",
    "# Create a DMatrix\n",
    "dtrain = xgb.DMatrix(X_train, y_train)\n",
    "del taxi_df"
   ]
  },
  {
   "cell_type": "code",
   "execution_count": 18,
   "metadata": {},
   "outputs": [
    {
     "name": "stdout",
     "output_type": "stream",
     "text": [
      "CPU times: user 5.76 s, sys: 2.48 s, total: 8.23 s\n",
      "Wall time: 8.24 s\n"
     ]
    }
   ],
   "source": [
    "%%time\n",
    "# Train XGBoost\n",
    "params = {\n",
    "    'learning_rate'  : 0.3,\n",
    "    'max_depth'      : 8,\n",
    "    'objective'      : 'reg:squarederror',\n",
    "    'subsample'      : 0.6,\n",
    "    'gamma'          : 1,\n",
    "    'silent'         : True,\n",
    "    'verbose_eval'   : True,\n",
    "    'tree_method'    :'gpu_hist'\n",
    "}\n",
    "\n",
    "\n",
    "trained_model = xgb.train(params, dtrain)"
   ]
  },
  {
   "cell_type": "markdown",
   "metadata": {},
   "source": [
    "# Test the model"
   ]
  },
  {
   "cell_type": "code",
   "execution_count": 19,
   "metadata": {},
   "outputs": [
    {
     "name": "stdout",
     "output_type": "stream",
     "text": [
      "R^2 of the model: 0.9849\n"
     ]
    }
   ],
   "source": [
    "dtest = xgb.DMatrix(X_test, y_test)\n",
    "y_hat = trained_model.predict(dtest).astype('float64')\n",
    "print('R^2 of the model: {0:.4f}'.format(cuml_r2(y_test, y_hat)))"
   ]
  },
  {
   "cell_type": "code",
   "execution_count": null,
   "metadata": {},
   "outputs": [],
   "source": []
  }
 ],
 "metadata": {
  "kernelspec": {
   "display_name": "Python 3",
   "language": "python",
   "name": "python3"
  },
  "language_info": {
   "codemirror_mode": {
    "name": "ipython",
    "version": 3
   },
   "file_extension": ".py",
   "mimetype": "text/x-python",
   "name": "python",
   "nbconvert_exporter": "python",
   "pygments_lexer": "ipython3",
   "version": "3.6.7"
  }
 },
 "nbformat": 4,
 "nbformat_minor": 4
}
